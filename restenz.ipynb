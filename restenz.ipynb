# Secuencia de prueba
seq = "CGATGATGAATTCGTACCCGAGCTGAATTCAGCAGAATTCAGCTGATCGATACCAGAATTCCATA"

# Sitio de empalme de la enzima EcoR1
EcoR1 = "GAATTC"
HindIII =  "AAGCTT"
NotI =  "GCGGCCGC"

# Prueba con el sitio de empalme de la enzima EcoR1

print(enzima(seq, EcoR1))
print(enzima(seq, HindIII))
print(enzima(seq, NotI))